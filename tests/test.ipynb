{
 "cells": [
  {
   "cell_type": "code",
   "execution_count": 11,
   "metadata": {},
   "outputs": [
    {
     "name": "stdout",
     "output_type": "stream",
     "text": [
      "Simple Linear Test - Estimated Beta: [2.20847145 2.97026731]\n",
      "Simple Linear Test - MSE: 1.0083\n",
      "Identity Matrix Test - Estimated Beta: [0.42385505 0.60639321 0.0191932  0.30157482 0.66017354 0.29007761\n",
      " 0.61801543 0.4287687  0.13547406 0.29828233]\n",
      "Identity Matrix Test - MSE: 0.0000\n"
     ]
    }
   ],
   "source": [
    "import numpy as np\n",
    "import matplotlib.pyplot as plt\n",
    "from sklearn.metrics import mean_squared_error\n",
    "\n",
    "\n",
    "np.random.seed(0)\n",
    "x_simple = np.linspace(0, 10, 100)\n",
    "y = 3 * x_simple + 2 + np.random.normal(0, 1, 100)  # Add some noise\n",
    "\n",
    "# Create the design matrix with a column of ones (for the intercept.)\n",
    "X_simple = np.c_[np.ones(len(x_simple)), x_simple]\n",
    "\n",
    "beta_hat = np.linalg.inv(X_simple.T @ X_simple ) @ X_simple.T @y\n",
    "y_predict = X_simple @ beta_hat\n",
    "\n",
    "mse_simple = mean_squared_error(y, y_predict)\n",
    "print(f\"Simple Linear Test - Estimated Beta: {beta_hat}\")\n",
    "print(f\"Simple Linear Test - MSE: {mse_simple:.4f}\")\n",
    "\n",
    "# Step 2: Identity matrix test to ensure MSE equals zero\n",
    "# Set the design matrix to the identity matrix\n",
    "X_identity = np.eye(10)  # 10x10 identity matrix\n",
    "y_identity = np.random.rand(10)  # Random y values\n",
    "\n",
    "# OLS with identity matrix as X should return y exactly\n",
    "beta_identity = np.linalg.inv(X_identity.T @ X_identity) @ X_identity.T @ y_identity\n",
    "y_pred_identity = X_identity @ beta_identity\n",
    "\n",
    "# MSE should be zero\n",
    "mse_identity = mean_squared_error(y_identity, y_pred_identity)\n",
    "print(f\"Identity Matrix Test - Estimated Beta: {beta_identity}\")\n",
    "print(f\"Identity Matrix Test - MSE: {mse_identity:.4f}\")\n",
    "\n",
    "assert mse_identity == 0, \"MSE should be exactly zero when using the identity matrix.\"\n",
    "\n"
   ]
  }
 ],
 "metadata": {
  "kernelspec": {
   "display_name": "FYS-STK4155",
   "language": "python",
   "name": "python3"
  },
  "language_info": {
   "codemirror_mode": {
    "name": "ipython",
    "version": 3
   },
   "file_extension": ".py",
   "mimetype": "text/x-python",
   "name": "python",
   "nbconvert_exporter": "python",
   "pygments_lexer": "ipython3",
   "version": "3.10.14"
  }
 },
 "nbformat": 4,
 "nbformat_minor": 2
}
